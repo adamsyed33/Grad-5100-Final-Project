{
 "cells": [
  {
   "cell_type": "code",
   "execution_count": 23,
   "id": "fd0b1e86",
   "metadata": {},
   "outputs": [],
   "source": [
    "import os\n",
    "\n",
    "def extract_code_and_extension(s):\n",
    "    parts = s.strip().split('_')\n",
    "    alphabetic_code = parts[1]\n",
    "    extension = parts[2]\n",
    "    return f\"{alphabetic_code}.{extension}\"\n",
    "\n",
    "file_path = '/Users/adamyeeter/Grad 5100- Working/Final Project/codes.txt'\n",
    "\n",
    "expanded_dir = 'expanded'\n",
    "if not os.path.exists(expanded_dir):\n",
    "    os.makedirs(expanded_dir)\n",
    "\n",
    "with open(file_path, 'r') as file:\n",
    "    for line in file:\n",
    "        filename = extract_code_and_extension(line)\n",
    "        number = line.split('_')[0]\n",
    "        file_path = os.path.join(expanded_dir, filename)\n",
    "\n",
    "        with open(file_path, 'w') as new_file:\n",
    "            new_file.write(number)\n",
    "\n"
   ]
  },
  {
   "cell_type": "code",
   "execution_count": null,
   "id": "2043b319",
   "metadata": {},
   "outputs": [],
   "source": []
  },
  {
   "cell_type": "code",
   "execution_count": null,
   "id": "6688636b",
   "metadata": {},
   "outputs": [],
   "source": []
  },
  {
   "cell_type": "code",
   "execution_count": null,
   "id": "c05a8981",
   "metadata": {},
   "outputs": [],
   "source": []
  }
 ],
 "metadata": {
  "kernelspec": {
   "display_name": "Python 3 (ipykernel)",
   "language": "python",
   "name": "python3"
  },
  "language_info": {
   "codemirror_mode": {
    "name": "ipython",
    "version": 3
   },
   "file_extension": ".py",
   "mimetype": "text/x-python",
   "name": "python",
   "nbconvert_exporter": "python",
   "pygments_lexer": "ipython3",
   "version": "3.11.4"
  }
 },
 "nbformat": 4,
 "nbformat_minor": 5
}
